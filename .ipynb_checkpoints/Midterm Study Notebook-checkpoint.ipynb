{
 "cells": [
  {
   "cell_type": "markdown",
   "metadata": {
    "toc": true
   },
   "source": [
    "<h1>Table of Contents<span class=\"tocSkip\"></span></h1>\n",
    "<div class=\"toc\"><ul class=\"toc-item\"><li><span><a href=\"#Notes-on-this-Notebook\" data-toc-modified-id=\"Notes-on-this-Notebook-1\">Notes on this Notebook</a></span></li><li><span><a href=\"#Python-Setup\" data-toc-modified-id=\"Python-Setup-2\">Python Setup</a></span></li><li><span><a href=\"#Definitions\" data-toc-modified-id=\"Definitions-3\">Definitions</a></span></li><li><span><a href=\"#Abbreviations\" data-toc-modified-id=\"Abbreviations-4\">Abbreviations</a></span></li><li><span><a href=\"#Measurement-and-Data-Collection-(Variables,-etc.)\" data-toc-modified-id=\"Measurement-and-Data-Collection-(Variables,-etc.)-5\">Measurement and Data Collection (Variables, etc.)</a></span><ul class=\"toc-item\"><li><span><a href=\"#Categorical\" data-toc-modified-id=\"Categorical-5.1\">Categorical</a></span></li><li><span><a href=\"#Continuous\" data-toc-modified-id=\"Continuous-5.2\">Continuous</a></span></li><li><span><a href=\"#Validity\" data-toc-modified-id=\"Validity-5.3\">Validity</a></span></li><li><span><a href=\"#Reliability\" data-toc-modified-id=\"Reliability-5.4\">Reliability</a></span></li><li><span><a href=\"#Types-of-Research\" data-toc-modified-id=\"Types-of-Research-5.5\">Types of Research</a></span></li></ul></li><li><span><a href=\"#Types-of-Variation-in-Data\" data-toc-modified-id=\"Types-of-Variation-in-Data-6\">Types of Variation in Data</a></span></li><li><span><a href=\"#Measures-of-Central-Tendency\" data-toc-modified-id=\"Measures-of-Central-Tendency-7\">Measures of Central Tendency</a></span><ul class=\"toc-item\"><li><span><a href=\"#Mean\" data-toc-modified-id=\"Mean-7.1\">Mean</a></span></li><li><span><a href=\"#Median\" data-toc-modified-id=\"Median-7.2\">Median</a></span></li><li><span><a href=\"#Mode\" data-toc-modified-id=\"Mode-7.3\">Mode</a></span></li></ul></li><li><span><a href=\"#Measures-of-Spread\" data-toc-modified-id=\"Measures-of-Spread-8\">Measures of Spread</a></span><ul class=\"toc-item\"><li><span><a href=\"#Sum-of-Squared-Errors\" data-toc-modified-id=\"Sum-of-Squared-Errors-8.1\">Sum of Squared Errors</a></span></li><li><span><a href=\"#Variance\" data-toc-modified-id=\"Variance-8.2\">Variance</a></span></li><li><span><a href=\"#Standard-Deviation-(S)\" data-toc-modified-id=\"Standard-Deviation-(S)-8.3\">Standard Deviation (S)</a></span></li><li><span><a href=\"#Z-Scores\" data-toc-modified-id=\"Z-Scores-8.4\">Z-Scores</a></span></li></ul></li><li><span><a href=\"#Descriptive-Statistics\" data-toc-modified-id=\"Descriptive-Statistics-9\">Descriptive Statistics</a></span><ul class=\"toc-item\"><li><span><a href=\"#Quartiles\" data-toc-modified-id=\"Quartiles-9.1\">Quartiles</a></span></li><li><span><a href=\"#Percentiles\" data-toc-modified-id=\"Percentiles-9.2\">Percentiles</a></span></li><li><span><a href=\"#Box-Plot\" data-toc-modified-id=\"Box-Plot-9.3\">Box Plot</a></span></li></ul></li><li><span><a href=\"#Central-Limit-Theorem\" data-toc-modified-id=\"Central-Limit-Theorem-10\">Central Limit Theorem</a></span></li><li><span><a href=\"#Probability-Distributions\" data-toc-modified-id=\"Probability-Distributions-11\">Probability Distributions</a></span><ul class=\"toc-item\"><li><span><a href=\"#Probability-Mass-Function-(PMF)\" data-toc-modified-id=\"Probability-Mass-Function-(PMF)-11.1\">Probability Mass Function (PMF)</a></span></li><li><span><a href=\"#Probability-Density-Function\" data-toc-modified-id=\"Probability-Density-Function-11.2\">Probability Density Function</a></span><ul class=\"toc-item\"><li><span><a href=\"#Continuous-PDF\" data-toc-modified-id=\"Continuous-PDF-11.2.1\">Continuous PDF</a></span></li><li><span><a href=\"#Triangular-PDF\" data-toc-modified-id=\"Triangular-PDF-11.2.2\">Triangular PDF</a></span></li><li><span><a href=\"#Binomial-Discrete---PMF\" data-toc-modified-id=\"Binomial-Discrete---PMF-11.2.3\">Binomial Discrete - PMF</a></span></li><li><span><a href=\"#Normal-Continuous\" data-toc-modified-id=\"Normal-Continuous-11.2.4\">Normal Continuous</a></span></li></ul></li></ul></li><li><span><a href=\"#Error\" data-toc-modified-id=\"Error-12\">Error</a></span><ul class=\"toc-item\"><li><span><a href=\"#Significance-Level\" data-toc-modified-id=\"Significance-Level-12.1\">Significance Level</a></span></li><li><span><a href=\"#Confidence-Level\" data-toc-modified-id=\"Confidence-Level-12.2\">Confidence Level</a></span></li><li><span><a href=\"#Standard-Error-(SE)\" data-toc-modified-id=\"Standard-Error-(SE)-12.3\">Standard Error (SE)</a></span></li><li><span><a href=\"#Confidence-Interval\" data-toc-modified-id=\"Confidence-Interval-12.4\">Confidence Interval</a></span></li></ul></li><li><span><a href=\"#Hypothesis-Testing\" data-toc-modified-id=\"Hypothesis-Testing-13\">Hypothesis Testing</a></span><ul class=\"toc-item\"><li><span><a href=\"#Null-hypothesis\" data-toc-modified-id=\"Null-hypothesis-13.1\">Null hypothesis</a></span></li><li><span><a href=\"#Alternative-hypothesis\" data-toc-modified-id=\"Alternative-hypothesis-13.2\">Alternative hypothesis</a></span></li><li><span><a href=\"#Hypothesis-Falsification\" data-toc-modified-id=\"Hypothesis-Falsification-13.3\">Hypothesis Falsification</a></span></li><li><span><a href=\"#T-test\" data-toc-modified-id=\"T-test-13.4\">T-test</a></span><ul class=\"toc-item\"><li><span><a href=\"#Z-score\" data-toc-modified-id=\"Z-score-13.4.1\">Z-score</a></span></li></ul></li><li><span><a href=\"#F---Test\" data-toc-modified-id=\"F---Test-13.5\">F - Test</a></span><ul class=\"toc-item\"><li><span><a href=\"#Ti-89---F-functions\" data-toc-modified-id=\"Ti-89---F-functions-13.5.1\">Ti-89 - F functions</a></span></li></ul></li></ul></li><li><span><a href=\"#Covariance\" data-toc-modified-id=\"Covariance-14\">Covariance</a></span></li><li><span><a href=\"#Correlation-Coefficient\" data-toc-modified-id=\"Correlation-Coefficient-15\">Correlation Coefficient</a></span><ul class=\"toc-item\"><li><span><a href=\"#Pearson's-r\" data-toc-modified-id=\"Pearson's-r-15.1\">Pearson's r</a></span></li><li><span><a href=\"#Spearman's-$\\rho$\" data-toc-modified-id=\"Spearman's-$\\rho$-15.2\">Spearman's $\\rho$</a></span></li><li><span><a href=\"#Kendall's-$\\tau$\" data-toc-modified-id=\"Kendall's-$\\tau$-15.3\">Kendall's $\\tau$</a></span></li></ul></li><li><span><a href=\"#Regression---FALLBACK-TO-LECTURE-W3R\" data-toc-modified-id=\"Regression---FALLBACK-TO-LECTURE-W3R-16\">Regression - FALLBACK TO LECTURE W3R</a></span></li><li><span><a href=\"#ANOVA\" data-toc-modified-id=\"ANOVA-17\">ANOVA</a></span><ul class=\"toc-item\"><li><span><a href=\"#Single-Factor\" data-toc-modified-id=\"Single-Factor-17.1\">Single Factor</a></span><ul class=\"toc-item\"><li><span><a href=\"#Steps\" data-toc-modified-id=\"Steps-17.1.1\">Steps</a></span></li></ul></li></ul></li><li><span><a href=\"#Slide-35-W4R\" data-toc-modified-id=\"Slide-35-W4R-18\"><strong>Slide 35 W4R</strong></a></span><ul class=\"toc-item\"><li><span><a href=\"#Two-factor\" data-toc-modified-id=\"Two-factor-18.1\">Two factor</a></span></li></ul></li><li><span><a href=\"#Combinations-&amp;-Permutations\" data-toc-modified-id=\"Combinations-&amp;-Permutations-19\">Combinations &amp; Permutations</a></span><ul class=\"toc-item\"><li><span><a href=\"#Permutations\" data-toc-modified-id=\"Permutations-19.1\">Permutations</a></span></li><li><span><a href=\"#Combinations\" data-toc-modified-id=\"Combinations-19.2\">Combinations</a></span></li></ul></li><li><span><a href=\"#Probability-Rules\" data-toc-modified-id=\"Probability-Rules-20\">Probability Rules</a></span><ul class=\"toc-item\"><li><span><a href=\"#Laws-of-Probability\" data-toc-modified-id=\"Laws-of-Probability-20.1\">Laws of Probability</a></span><ul class=\"toc-item\"><li><span><a href=\"#Probability-Basics\" data-toc-modified-id=\"Probability-Basics-20.1.1\">Probability Basics</a></span></li><li><span><a href=\"#Probability-of-Two-Events\" data-toc-modified-id=\"Probability-of-Two-Events-20.1.2\">Probability of Two Events</a></span></li></ul></li><li><span><a href=\"#Bayesian-Conditionals\" data-toc-modified-id=\"Bayesian-Conditionals-20.2\">Bayesian Conditionals</a></span><ul class=\"toc-item\"><li><span><a href=\"#Probability-of-Two-Possibly-Related-Events\" data-toc-modified-id=\"Probability-of-Two-Possibly-Related-Events-20.2.1\">Probability of Two Possibly Related Events</a></span></li><li><span><a href=\"#Probability-exmaple-(-Baye's-Rule)\" data-toc-modified-id=\"Probability-exmaple-(-Baye's-Rule)-20.2.2\">Probability exmaple ( Baye's Rule)</a></span></li><li><span><a href=\"#More-Examples-of-Probability\" data-toc-modified-id=\"More-Examples-of-Probability-20.2.3\">More Examples of Probability</a></span><ul class=\"toc-item\"><li><span><a href=\"#BAGGED-FOR-NOW\" data-toc-modified-id=\"BAGGED-FOR-NOW-20.2.3.1\">BAGGED FOR NOW</a></span></li></ul></li></ul></li></ul></li><li><span><a href=\"#Error-Types\" data-toc-modified-id=\"Error-Types-21\">Error Types</a></span><ul class=\"toc-item\"><li><span><a href=\"#Type-I-Error\" data-toc-modified-id=\"Type-I-Error-21.1\">Type I Error</a></span></li><li><span><a href=\"#Type-II-Error\" data-toc-modified-id=\"Type-II-Error-21.2\">Type II Error</a></span></li></ul></li><li><span><a href=\"#Calculators\" data-toc-modified-id=\"Calculators-22\">Calculators</a></span><ul class=\"toc-item\"><li><span><a href=\"#P(Z)\" data-toc-modified-id=\"P(Z)-22.1\">P(Z)</a></span></li><li><span><a href=\"#Z(P)\" data-toc-modified-id=\"Z(P)-22.2\">Z(P)</a></span></li><li><span><a href=\"#P(F)\" data-toc-modified-id=\"P(F)-22.3\">P(F)</a></span></li><li><span><a href=\"#F(P)\" data-toc-modified-id=\"F(P)-22.4\">F(P)</a></span></li><li><span><a href=\"#this-Calculator\" data-toc-modified-id=\"this-Calculator-22.5\">this Calculator</a></span></li><li><span><a href=\"#That-Calculator\" data-toc-modified-id=\"That-Calculator-22.6\">That Calculator</a></span></li></ul></li></ul></div>"
   ]
  },
  {
   "cell_type": "markdown",
   "metadata": {},
   "source": [
    "## Notes on this Notebook\n",
    "\n",
    "\n",
    "using [nbextensions](https://github.com/ipython-contrib/jupyter_contrib_nbextensions)\n",
    "* Install using the **conda** command in your **anaconda prompt with admin privelages**\n",
    "* Enable table of contents (2) *toc2* once installed\n",
    "\n",
    "\n",
    "**[Github Repository](https://github.com/MechBertrand/design-of-experiments.git)**"
   ]
  },
  {
   "cell_type": "markdown",
   "metadata": {},
   "source": [
    "## Python Setup"
   ]
  },
  {
   "cell_type": "code",
   "execution_count": 4,
   "metadata": {},
   "outputs": [],
   "source": [
    "from scipy.stats import norm, f"
   ]
  },
  {
   "cell_type": "markdown",
   "metadata": {},
   "source": [
    "# DOE Midterm Notebook"
   ]
  },
  {
   "cell_type": "markdown",
   "metadata": {},
   "source": [
    "## Definitions\n",
    "\n",
    "* **Dependent Variable:** Proposed Effect. \n",
    "  * *Outcome variable*\n",
    "  * *non-manipulated variable(experiments)*\n",
    "  \n",
    "  \n",
    "* **Deviation:** The difference between the mean (or predicted value) and an actual data point\n",
    "  * $deviation = x_i - \\bar{x}$\n",
    "\n",
    "\n",
    "* **Falsification:** The act of *disproving* a theory or hypothesis\n",
    "\n",
    "\n",
    "* **Hypothesis:** A prediction from a theory\n",
    "\n",
    "\n",
    "* **Independant variable:** Proposed Cause. \n",
    "  * *Input variable*\n",
    "  * *predictor variable*  \n",
    "  * *manipulated(experiment) variable*\n",
    "\n",
    "\n",
    "* **Theory:** A hypothesized general principle or set of principles that explains known findings about a topic and from which new hypotheses can be generated."
   ]
  },
  {
   "cell_type": "markdown",
   "metadata": {},
   "source": [
    "## Abbreviations\n",
    "\n",
    "* **[$\\alpha$](#alpha)** - Significance Level\n",
    "\n",
    "* **[CI](#CI)** - Confidence Interval\n",
    "\n",
    "* **[$H_a$](#Ha)** - Alternative Hypothesis\n",
    "\n",
    "* **[$H_o$](#Ho)** - Null Hypothesis\n",
    "\n",
    "* **[p](#pstat)** - Confidence Level\n",
    "\n",
    "* **[PDF](#PDF)** - Probability Density Function\n",
    "\n",
    "* **[PMF](#PMF)** - Probability Mass Function\n",
    "\n",
    "* **[S](#stdev)** - Standard Deviation of a sample\n",
    "\n",
    "* **[SE](#SE)** - Standard Error\n",
    "\n",
    "* **[SS](#SS)** - Sum of Squared Errors"
   ]
  },
  {
   "cell_type": "markdown",
   "metadata": {},
   "source": [
    "## Measurement and Data Collection (Variables, etc.)"
   ]
  },
  {
   "cell_type": "markdown",
   "metadata": {},
   "source": [
    "### Categorical\n",
    "Divided into bins or *distinct* categories\n",
    "\n",
    "* **Binary Variable:** Two categories\n",
    "\n",
    "* **Nominal Variable:** More than two categories\n",
    "\n",
    "* **Ordinal Variable:** Same as Nominal, but in a logical order\n",
    "\n",
    "### Continuous\n",
    "Not divided into bins, able to take any value in the range\n",
    "* **Interval Variable:** Equal distances (or intervals) in the variable represent equal difference in property being measured\n",
    "  * Celsius, Fahrenheit\n",
    "\n",
    "\n",
    "* **Ratio Variable:** Same as interval, but the ratio of scores on the scale must make sense.\n",
    "  * Kelvin, Rankine"
   ]
  },
  {
   "cell_type": "markdown",
   "metadata": {},
   "source": [
    "### Validity\n",
    "\n",
    "Does your instrument measure what you intended to measure?\n",
    "* **Content Validity:** Evidence that the content of a test corresponds to the content of the construct it was designed to deliver\n",
    "  * Does it make logical scientific sense?\n",
    "\n",
    "\n",
    "* **Ecological Validity:** Evidence that the results of study, experiment or test can be applied, and allow inferences, to real-world conditions\n",
    "  * Is it usable in from a practical sense?\n",
    "  \n",
    "  **Example:** Knots versus pitot-static with ship speed"
   ]
  },
  {
   "cell_type": "markdown",
   "metadata": {},
   "source": [
    "### Reliability\n",
    "\n",
    "* **Definition:** The ability of the measure to produce the same results under the same conditions\n",
    "\n",
    "\n",
    "* **Test-Retest Reliability:** The ability of a measure to produve consistent result when the same entities are tested at two different points in time"
   ]
  },
  {
   "cell_type": "markdown",
   "metadata": {},
   "source": [
    "### Types of Research\n",
    "\n",
    "* **Correlative:** Observing what naturally goes on in the world without directly interfering with it\n",
    "\n",
    "\n",
    "* **Cross Sectional:** Implies that data come from entities at different age points, with different entities representing each age point\n",
    "\n",
    "\n",
    "* **Experimental:** One or more variable is systematically manipulated to see their effect (alone or in combination) on an outcome variable"
   ]
  },
  {
   "cell_type": "markdown",
   "metadata": {},
   "source": [
    "## Types of Variation in Data\n",
    "\n",
    "* **Systematic Variation:** Differences in performance created by a specific experimental manipulation or known factors\n",
    "\n",
    "\n",
    "* **Unsystematic Variation:** Differences in performance created by unknown factors\n",
    "\n",
    "\n",
    "* **Randomization:** A method to minimize impact of unsystematic variation"
   ]
  },
  {
   "cell_type": "markdown",
   "metadata": {},
   "source": [
    "## Measures of Central Tendency"
   ]
  },
  {
   "cell_type": "markdown",
   "metadata": {},
   "source": [
    "### Mean\n",
    "\n",
    "The Sum of the data values divided by the number of values\n",
    "* Also known as the Average, or the ’Arithmetic Mean’\n",
    "$$\\bar{X} = \\frac{ \\sum_{i=1}^n X_i}{n}$$"
   ]
  },
  {
   "cell_type": "markdown",
   "metadata": {},
   "source": [
    "### Median\n",
    "The 'middle' value when data is ordered.\n",
    "\n",
    "\\begin{align}\n",
    "\\begin{matrix}\n",
    "\\big [ 22 & 40 & 53 & 57 & 93 & \\textbf{98} & 103 & 108 & 116 & 121 & 252 \\big ]\n",
    "\\end{matrix}\n",
    "\\end{align}"
   ]
  },
  {
   "cell_type": "markdown",
   "metadata": {},
   "source": [
    "### Mode\n",
    "The most frequent value in a set of numbers\n",
    "* **Bimodal:** The set of numbers has two modes\n",
    "\n",
    "\n",
    "* **Multimodal:** The set of numbers has several modes"
   ]
  },
  {
   "cell_type": "markdown",
   "metadata": {},
   "source": [
    "## Measures of Spread"
   ]
  },
  {
   "cell_type": "markdown",
   "metadata": {},
   "source": [
    "<a id=\"SS\"></a>\n",
    "### Sum of Squared Errors\n",
    "Literally the error squared then summed.\n",
    "$$\\sum{}\\big(X_i - \\bar{X}\\big)^2$$"
   ]
  },
  {
   "cell_type": "markdown",
   "metadata": {},
   "source": [
    "<a id=\"variance\"></a>\n",
    "### Variance\n",
    "The average of the [SS](#SS)\n",
    "* Uses n-1 samples for non-population sample sizes, n for population sample sizes\n",
    "$$Variance = \\frac{\\sum{}\\big(X_i - \\bar{X}\\big)^2}{n-1}$$"
   ]
  },
  {
   "cell_type": "markdown",
   "metadata": {},
   "source": [
    "<a id=\"stdev\"></a>\n",
    "### Standard Deviation (S)\n",
    "The square root of the Variance\n",
    "$$S = \\sqrt{\\frac{\\sum{}\\big(X_i - \\bar{X}\\big)^2}{n-1}}$$"
   ]
  },
  {
   "cell_type": "markdown",
   "metadata": {},
   "source": [
    "### Z-Scores\n",
    "* A way to standardize the values in your data with respect to other values in the same group\n",
    "* Number of standard deviations awayf rom the mean your datapoint is\n",
    "* **Scales** your values to a set of values that have a means of 0 and a standard deviationof 1\n",
    "\n",
    "$$Z_i = \\frac{X_i - \\bar{x}}{S}$$\n",
    "\n",
    "**DOES NOT CHANGE YOUR DATA TO LOOK LIKE A NORMAL DISTRIBUTION**"
   ]
  },
  {
   "cell_type": "markdown",
   "metadata": {},
   "source": [
    "## Descriptive Statistics"
   ]
  },
  {
   "cell_type": "markdown",
   "metadata": {},
   "source": [
    "### Quartiles\n",
    "A set of **three** values that split the dataset into four equal sized groups\n",
    "\n",
    "* **First Quartile (Q1)**\n",
    "  * Lower Quartile\n",
    "  * Splits the lowest 25%\n",
    "  \n",
    "  \n",
    "* **Second Quartile (Q2)**\n",
    "  * Middle Quartile\n",
    "  * Cuts the dataset in half\n",
    "  \n",
    "  \n",
    "* **Third Quartile (Q3)**\n",
    "  * Upper Quartile\n",
    "  * Splits the highest 25% (or the lowest 75%)\n",
    "  \n",
    "  \n",
    "* **Interquartile Range (IQR)**\n",
    "  * Q3 - Q1"
   ]
  },
  {
   "cell_type": "markdown",
   "metadata": {},
   "source": [
    "### Percentiles\n",
    "Same as quartiles except doesn't necessarily rest at a multiple of 25%.\n",
    "* The datapoint under which the given X% percentile of data lies below."
   ]
  },
  {
   "cell_type": "markdown",
   "metadata": {},
   "source": [
    "### Box Plot\n",
    "| Lower Whisker | Lower Bar | Middle Bar | Upper Bar | Upper Whisker |\n",
    "|----|----|----|----|----|\n",
    "| $10^{th}$ Percentile | Q1 | Q2 - median | Q3 | $90^{th}$ Percentile |\n",
    "\n",
    "<img src=\"images/boxplot.png\" width=\"50%\">\n",
    "\n",
    "**Note:** Sometimes a dot is used to denote mean and/or the whiskers denoth $5^{th}$ and $95^{th}$ percentiles"
   ]
  },
  {
   "cell_type": "markdown",
   "metadata": {},
   "source": [
    "## Central Limit Theorem"
   ]
  },
  {
   "cell_type": "markdown",
   "metadata": {},
   "source": [
    "<img src=\"images/rotated-classroom_images-04.png\" width=\"50%\">\n",
    "\n",
    "If you were to sample from any given distribution with an average of 1,the output would look like the original graph.\n",
    "\n",
    "Take a random sample of size above ~30 and take the average, then do that 1000 (A but fuckload of) times, the distribution of averages will look like a normal distribution about the average of the data.\n",
    "\n",
    "So what is that average?\n",
    "\n",
    "<img src=\"images/rotated-classroom_images-05.png\" width=\"50%\">\n",
    "\n",
    "Sample 1:\n",
    "\n",
    "$N_1 = 100$ \n",
    "\n",
    "$\\bar{X_{1}} = 50$\n",
    "\n",
    "$S_1 = 10$\n",
    "\n",
    "Risk: $Z(SE)$\n",
    "\n",
    "$\\bar{X_{1}} \\pm Z(SE)$\n",
    "$\\bar{X_{1}} \\pm Z\\bigg(\\frac{S}{\\sqrt{N}}\\bigg)$\n",
    "\n",
    "<img src=\"images/rotated-classroom_images-06.png\" width=\"50%\">\n",
    "\n",
    "Confidences about the reality of the sample\n",
    "\n",
    "<img src=\"images/rotated-classroom_images-07.png\" width=\"50%\">\n",
    "<img src=\"images/rotated-classroom_images-08.png\" width=\"50%\">\n",
    "<img src=\"images/rotated-classroom_images-09.png\" width=\"50%\">"
   ]
  },
  {
   "cell_type": "markdown",
   "metadata": {},
   "source": [
    "## Probability Distributions\n",
    "\n",
    "* **Frequency Distributions:** How many times something did happen\n",
    "\n",
    "* **Probability Distribution:** How many times something SHOULD HAVE happened or WILL occur"
   ]
  },
  {
   "cell_type": "markdown",
   "metadata": {},
   "source": [
    "<a id=\"PMF\"></a>\n",
    "### Probability Mass Function (PMF)\n",
    "**Discrete Distribution** - Specific values can be tan and are described by the PMF. The **total area under the points** is equal to 1.\n",
    "\n",
    "\n",
    "$$\\sum_{u}{Pr}\\big(X=u\\big)=1$$"
   ]
  },
  {
   "cell_type": "markdown",
   "metadata": {},
   "source": [
    "<a id=\"PDF\"></a>\n",
    "### Probability Density Function\n",
    "**Continuous Distribution** - Values could be taken over entire domain. The **total area under the curve** is equal to 1.\n",
    "\n",
    "When taken between two values, this can be defined as:\n",
    "$$Pr\\big[-\\inf{}\\le{}X\\le{}\\inf{}\\big]=1$$\n",
    "$$Pr\\big[a\\le{}X\\le{}b\\big]=\\int_{a}^{b}f(X)dx$$"
   ]
  },
  {
   "cell_type": "markdown",
   "metadata": {},
   "source": [
    "#### Continuous PDF\n",
    "All possibilities are equal across the domain. Possibilities are infinite but domain is limited.\n",
    "\n",
    "| <img src=\"images/uniform_graph.png\" width=\"50%\"> | $$f(X) = \\bigg{\\{}{\\frac{1}{b-a}, a \\le{} X \\le{} b \\atop 0, X \\lt a \\lor X \\gt b}$$ |\n",
    "|---|---|"
   ]
  },
  {
   "cell_type": "markdown",
   "metadata": {},
   "source": [
    "#### Triangular PDF\n",
    "Used quite extensively in simulation, since it has bounds, and you might have a general idea as to the max (a), min (b) and the most likely (c) values. More useful than uniform\n",
    "\n",
    "| <img src=\"images/triangular_graph.png\" width=\"50%\"> | $$f(x|a,b,c)=\\left\\{ \\begin{align}{{0, X\\lt{} a \\atop \\frac{2(X-1)}{(b-a)(c-a)}, a \\le{} X \\le{} c } \\atop {\\frac{2(b-X)}{(b-a)(b-c)}, c \\le{} X \\le{} b \\atop 0, b \\le{} X}}\\end{align}\\right.$$ |\n",
    "|---|---|"
   ]
  },
  {
   "cell_type": "markdown",
   "metadata": {},
   "source": [
    "#### Binomial Discrete - PMF\n",
    "Used to describe a series of Pass/Fail trials. Not all have to be 50/50. N= Number of trials and p=probability of success in each trial.\n",
    "\n",
    "| <img src=\"images/bidisc_graph.png\" width=\"50%\"> | $$Pr(X=k)=\\bigg({N \\atop k}\\bigg) p^{k}(1-p)^{N-k}$$ |\n",
    "|---|---|"
   ]
  },
  {
   "cell_type": "markdown",
   "metadata": {},
   "source": [
    "#### Normal Continuous\n",
    "Also, known as Gaussian. Used for many applications, including means testing by way of sampling. Has serious limitations, especially in simulations.\n",
    "\n",
    "| <img src=\"images/nocont_graph.png\" width=\"50%\"> | $$f(X)=\\frac{1}{\\sigma{}\\sqrt{2\\pi{}}}e^\\frac{-(x-\\mu{})^2}{2\\sigma{}^2}$$ |\n",
    "|---|---|"
   ]
  },
  {
   "cell_type": "markdown",
   "metadata": {},
   "source": [
    "## Error"
   ]
  },
  {
   "cell_type": "markdown",
   "metadata": {},
   "source": [
    "<a id=\"alpha\"></a>\n",
    "### Significance Level\n",
    "The probability chosen to have a type I error.\n",
    "\n",
    "\n",
    "$\\alpha{} = $ Significance Level"
   ]
  },
  {
   "cell_type": "markdown",
   "metadata": {},
   "source": [
    "<a id=\"pstat\"></a>\n",
    "### Confidence Level\n",
    "The probability of being correct.\n",
    "\n",
    "$$p = 1 - \\alpha{}$$\n",
    "\n",
    "From a [Z-Score](#Z-score): \n",
    "\n",
    "(ti-89)\n",
    "\n",
    "    p =  normcdf(lower bound, upper bound, mean, std. dev)\n",
    "\n",
    "For a two sided t-test of [$\\alpha$](#alpha) $= 0.05$, $Z = 1.96$ \n",
    "\n",
    "    p = normcdf(-$\\inf{}$, 1.96, 0, 1)\n",
    "    p = 0.975\n",
    "    \n",
    "[calculator](#pcalc)"
   ]
  },
  {
   "cell_type": "markdown",
   "metadata": {},
   "source": [
    "<a id=\"SE\"></a>\n",
    "### Standard Error (SE)\n",
    "The Standard Deviation of the Mean\n",
    "$$SE = \\sigma{}_{\\bar{x}} = \\frac{S}{\\sqrt{N}}$$"
   ]
  },
  {
   "cell_type": "markdown",
   "metadata": {},
   "source": [
    "<a id=\"CI\"></a>\n",
    "### Confidence Interval\n",
    "The confidence interval about the mean. Can be seen in two ways as shown below but is usually taken about the mean.\n",
    "\\begin{align}\n",
    "CI &=\\bar{x} \\pm \\bigg(Z_{\\frac{1-p}{2}}\\big(SE\\big)\\bigg)\\\\\n",
    "&=\\bigg[\\bar{x} + \\bigg(Z_{\\frac{1-p}{2}}\\big(SE\\big)\\bigg), \\bar{x} - \\bigg(Z_{\\frac{1-p}{2}}\\big(SE\\big)\\bigg)\\bigg]\\\\\n",
    "\\end{align}"
   ]
  },
  {
   "cell_type": "markdown",
   "metadata": {},
   "source": [
    "## Hypothesis Testing"
   ]
  },
  {
   "cell_type": "markdown",
   "metadata": {},
   "source": [
    "<a id=\"Ho\"></a>\n",
    "### Null hypothesis\n",
    "The null or no effect hypothesis. Nothing is different than expected.\n",
    "* **Can NOT be \"accepted\"**\n",
    "\n",
    "$H_o =$ Null Hypothesis"
   ]
  },
  {
   "cell_type": "markdown",
   "metadata": {},
   "source": [
    "<a id=\"Ha\"></a>\n",
    "### Alternative hypothesis\n",
    "The alternative or novel hypothesis. Contradictory to the null hypothesis.\n",
    "\n",
    "$H_a =$ Alternative Hypothesis"
   ]
  },
  {
   "cell_type": "markdown",
   "metadata": {},
   "source": [
    "### Hypothesis Falsification\n",
    "The purpose of hypothesis testing is hypothesis falsification. So assume you're trying to falsify the null hypothesis to save yourself the trouble of getting bum banged."
   ]
  },
  {
   "cell_type": "markdown",
   "metadata": {},
   "source": [
    "### T-test"
   ]
  },
  {
   "cell_type": "markdown",
   "metadata": {},
   "source": [
    "<a id=\"Z-score\"></a>\n",
    "#### Z-score\n",
    "A measure of standard deviations from the mean a datapoint lays\n",
    "\n",
    "$Z = \\frac{\\bar{x}-\\mu{}_o}{\\sigma{}_\\bar{x}} = \\frac{\\bar{x} - \\mu{}_o}{\\sigma{}\\big/\\sqrt{n}}$\n",
    "\n",
    "From a confidence level (p) or $\\alpha$\n",
    "\n",
    "(ti-89)\n",
    "\n",
    "| _ | Have boundary(ies), need area | Have area, need boundary |\n",
    "|---|---|---|\n",
    "| With Z | `normalcdf(lower boundary, upper boundary)` | `invNorm(area to left)` |\n",
    "| With raw data | `normalcdf(left boundary, right boundary, mean, std. dev)` | `invNorm(area to left, mean, std. deviation)` |\n",
    "\n",
    "    z = invnorm(p)\n",
    "    z = invnorm(alpha / 2)\n",
    "    \n",
    "[calculator](#zcalc)"
   ]
  },
  {
   "cell_type": "markdown",
   "metadata": {},
   "source": [
    "From a Z-Score:\n",
    "\n",
    "(ti-89)\n",
    "\n",
    "p =  normcdf(lower bound, upper bound, mean, std. dev)\n",
    "For a two sided t-test of  𝛼   =0.05 ,  𝑍=1.96 \n",
    "\n",
    "p = normcdf(-$\\inf{}$, 1.96, 0, 1)\n",
    "p = 0.975\n",
    "calculator"
   ]
  },
  {
   "cell_type": "markdown",
   "metadata": {},
   "source": [
    "Have some reality which has an average. You'll take a sample of that reality(population). From this you can get:\n",
    "\n",
    "$\\bar{X}$ Mean\n",
    "\n",
    "$N$ Sample size\n",
    "\n",
    "$S$ Sample stdeviaiton\n",
    "\n",
    "Can we take these and inferr about the population mean, stdev?\n",
    "We're trying to find:\n",
    "\n",
    "$P(D|H_o)$\n",
    "\n",
    "$D = [\\bar{X}, N, S]$\n",
    "\n",
    "$H_o: \\mu{} = k$ for some value k.\n",
    "\n",
    "$H_a: \\mu{} \\ne k$ for some value k.\n",
    "\n",
    "**Hypothesis Test**"
   ]
  },
  {
   "cell_type": "markdown",
   "metadata": {},
   "source": [
    "Two ways to look at where $\\bar{x}$ lies on the hypotest.\n",
    "\n",
    "**Build wings around measurement**\n",
    "\n",
    "$\\bar{x} \\pm Z\\cdot\\frac{S}{\\sqrt{N}}$\n",
    "\n",
    "is $\\mu{}$ inside the wings?\n",
    "\n",
    "These are the values of $\\mu{}$ I am willing to accept at risk rate $Z$.\n",
    "\n",
    "**Build wings around hypothesis $\\mu{}$**\n",
    "\n",
    "$\\mu{} \\pm Z\\cdot\\frac{S}{\\sqrt{N}}$\n",
    "\n",
    "if your mesaurement inside the wings?\n",
    "\n",
    "These are the values of $\\bar{x}$ I am willing to accept at risk rate $Z$."
   ]
  },
  {
   "cell_type": "markdown",
   "metadata": {},
   "source": [
    "### F - Test"
   ]
  },
  {
   "cell_type": "markdown",
   "metadata": {},
   "source": [
    "Sample 1: $\\bar{x}_1, S_1$\n",
    "\n",
    "Sample 1: $\\bar{x}_2, S_2$\n",
    "\n",
    "$f = \\frac{S_1}{S_2} \\approx \\frac{\\sigma{}_1}{\\sigma{}_2}$\n",
    "\n",
    "$H_o: \\sigma{}_1 = \\sigma{}_2$\n",
    "\n",
    "$H_a: \\sigma{}_1 \\ne \\sigma{}_2$"
   ]
  },
  {
   "cell_type": "markdown",
   "metadata": {},
   "source": [
    "#### Ti-89 - F functions\n",
    "\n",
    "    1 - alpha = tistat.fcdf(lower bound(usually 0), F-statistic, df(treatment), df(error))\n",
    "    F = tistat.invF(1-alpha,df(treatment),df(error))"
   ]
  },
  {
   "cell_type": "markdown",
   "metadata": {},
   "source": [
    "## Covariance"
   ]
  },
  {
   "cell_type": "markdown",
   "metadata": {},
   "source": [
    "From [Variance](#variance),\n",
    "Covariance is taking the summed root and spliting between two samples.\n",
    "\n",
    "$$Covariance = \\frac{\\sum{}\\big(x_i - \\bar{x}\\big)\\big(y_i - \\bar{y}\\big)}{n-1}$$\n",
    "* Positive or Negative\n",
    "* Unit dependent, so mph is diff from kph"
   ]
  },
  {
   "cell_type": "markdown",
   "metadata": {},
   "source": [
    "## Correlation Coefficient"
   ]
  },
  {
   "cell_type": "markdown",
   "metadata": {},
   "source": [
    "$$r = \\frac{Cov(x,y)}{S_{x}S_{y}} = \\frac{\\sum{}\\big(x_i - \\bar{x}\\big)\\big(y_i - \\bar{y}\\big)}{(n-1)S_{x}S_{y}}$$\n",
    "* Positive or Negative (so r^2 comes later in course)\n",
    "* Looks at LINEAR relationships - low correlation coefficients means the data is not LINEARLY related\n",
    "  * So it could still have a different type of relationship\n",
    "* Varies between -1 and 1, 0 means no relationship\n",
    "* can be very high but if the slope is 0, x doesn't matter anyways."
   ]
  },
  {
   "cell_type": "markdown",
   "metadata": {},
   "source": [
    "### Pearson's r"
   ]
  },
  {
   "cell_type": "markdown",
   "metadata": {},
   "source": [
    "* Same as Correlation Coefficient"
   ]
  },
  {
   "cell_type": "markdown",
   "metadata": {},
   "source": [
    "### Spearman's $\\rho$"
   ]
  },
  {
   "cell_type": "markdown",
   "metadata": {},
   "source": [
    "* Same as Pearson's except data is ranked\n",
    "* Ranks are then used to calculate the coefficient rather than the data values themselves\n",
    "* Answers whether the data goes in the same direction\n",
    "\n",
    "| Sample 1 | Rank |  Sample 2 | Rank |\n",
    "|---|---|---|---|\n",
    "| 9 | 2 | 2 | 5 |\n",
    "| 4 | 5 | 6 | 2 |\n",
    "| 12 | 1 | 5 | 3.5 |\n",
    "| 5 | 4 | 5 | 3.5 |\n",
    "| 7 | 3 | 19 | 1 |\n",
    "\n",
    "$rg_x = x$ ranks\n",
    "\n",
    "$rg_y = y$ ranks\n",
    "\n",
    "$$\\rho = \\frac{Cov(rg_x,rg_y)}{S_{rg_x}S_{rg_y}} = \\frac{\\sum{}\\big(rg_{xi} - \\bar{rg}_x\\big)\\big(rg_{yi} - \\bar{rg}_y\\big)}{(n-1)S_{rg_x}S_{rg_y}}$$"
   ]
  },
  {
   "cell_type": "markdown",
   "metadata": {},
   "source": [
    "### Kendall's $\\tau$"
   ]
  },
  {
   "cell_type": "markdown",
   "metadata": {},
   "source": [
    " Are most pairs of data going in the same direction?\n",
    " * Average measure of concordance\n",
    " * Examine each pair of data points\n",
    " * if the x and y go in the same direction, they are **Concordant**\n",
    " * * if the x and y go in the same direction, they are **discordant**\n",
    " * Otherwise, mark as other\n",
    " * Then calculate $\\tau$\n",
    " \n",
    " $N_{con}, N_{dis}$ are the number of concordant and discordant pairs respectively.\n",
    " \n",
    " $$\\tau = \\frac{N_{con} - N_{dis}}{\\big( {n \\atop 2 } \\big)} = \\frac{N_{con} - N_{dis}}{\\frac{n(n-1)}{2}}$$"
   ]
  },
  {
   "cell_type": "markdown",
   "metadata": {},
   "source": [
    "## Regression - FALLBACK TO LECTURE W3R"
   ]
  },
  {
   "cell_type": "markdown",
   "metadata": {},
   "source": [
    "<img src=\"images/rotated-classroom_images-10.png\" width=\"50%\">\n",
    "\n",
    "$y=\\beta{}_o + \\beta{}_1x$ or $y = b + mx$\n",
    "\n",
    "$\\beta{}_1 = \\frac{rise}{run}$\n",
    "\n",
    "<img src=\"images/rotated-classroom_images-11.png\" width=\"50%\">\n",
    "\n",
    "$K=\\frac{1}{2}$\n",
    "\n",
    "Lowest potential energy is each red line was a massless spring.\n",
    "\n",
    "---\n",
    "\n",
    "trying to minimize our error:\n",
    "\n",
    "$min\\bigg(\\sum\\big(\\;\\big)^2\\bigg)$\n",
    "\n",
    "$SS_T$ - sum of squares total\n",
    "\n",
    "$SS_E$ - sum of squares error\n",
    "\n",
    "$SS_M$ - sum of squares of model\n",
    "\n",
    "**input significance:** $Pr(\\gt{}|t|) \\lt \\alpha{}$ otherwise it may be thrown out.\n",
    "\n",
    "**F-test:** different enough? ($F \\approx\\ge 8$ or p-value $\\lt \\alpha{}$) <-- more important\n",
    "\n",
    "$R^2$: linear enough? ($R^2 \\approx\\ge 0.85$)\n",
    "\n",
    "equation: $Thing = intercept + estimate \\cdot input +\\epsilon$\n",
    "\n",
    "**SENSITIVE TO OUTLIERS IN DATA!**"
   ]
  },
  {
   "cell_type": "markdown",
   "metadata": {},
   "source": [
    "## ANOVA"
   ]
  },
  {
   "cell_type": "markdown",
   "metadata": {},
   "source": [
    "Tells you at least one thing is different given a set fo variances.\n",
    "\n",
    "If the means are all the same, it means nothing. However, if there's at least one pair that's different then that is significant."
   ]
  },
  {
   "cell_type": "markdown",
   "metadata": {},
   "source": [
    "### Single Factor"
   ]
  },
  {
   "cell_type": "markdown",
   "metadata": {},
   "source": [
    "#### Steps"
   ]
  },
  {
   "cell_type": "markdown",
   "metadata": {},
   "source": [
    "**1) Calculate SS between Treatments**"
   ]
  },
  {
   "cell_type": "markdown",
   "metadata": {},
   "source": [
    "| Position(i) | $Y_{i1}$ | $Y_{i2}$ | $Y_{i3}$ | $Y_{i4}$ | $Y_{i5}$ | $\\bar{Y}_i$ |\n",
    "|---|---|---|---|---|---|---|\n",
    "| Position(1) | 90 | 82 | 79 | 98 | 83 | 86.4 |\n",
    "| Position(2) | 105 | 89 | 93 | 104 | 89 | 96.0 |\n",
    "| Position(3) | 83 | 89 | 80 | 94 | 91 | 87.4 |\n",
    "\n",
    "$n = 5$\n",
    "$k = 3$\n",
    "\n",
    "Grand mean: $\\bar{\\bar{y}} = \\frac{\\sum_{i=1}^{k}\\bar{y_i}}{k} = 89.9$\n",
    "\n",
    "\n",
    "$SS_{treatment} = n\\sum_{i=1}^{k}\\big(\\bar{y}_i-\\bar{\\bar{y}})^2 = 278.6$\n",
    "\n"
   ]
  },
  {
   "cell_type": "markdown",
   "metadata": {},
   "source": [
    "**2) Calculate SS within Treatments**"
   ]
  },
  {
   "cell_type": "markdown",
   "metadata": {},
   "source": [
    "| Position(i) | $Y_{i1}-\\bar{y}_i$ | $Y_{i2}-\\bar{y}_i$ | $Y_{i3}-\\bar{y}_i$ | $Y_{i4}-\\bar{y}_i$ | $Y_{i5}-\\bar{y}_i$ | $\\sum_{j=1}^{n}\\big(y_ij-\\bar{y}_i)^2$ |\n",
    "|---|---|---|---|---|---|---|\n",
    "| _ _ _ _ _ _ | _ _ _ _ _ _ _ | _ _ _ _ _ _ _ | _ _ _ _ _ _ _ | _ _ _ _ _ _ _ | _ _ _ _ _ _ _ | _ _ _ _ _ _ _ _ _ _ _ _ _ _ _ |\n",
    "| Position(1) | 90-86.4 | 82-86.4 | 79-86.4 | 98-86.4 | 83-86.4 | 233.2 |\n",
    "| Position(2) | 105-96.0 | 89-96.0 | 93-96.0 | 104-96.0 | 89-96.0 | 252.0 |\n",
    "| Position(3) | 83-87.4 | 89-87.4 | 80-87.4 | 94-87.4 | 91-87.4 | 133.2 |\n",
    "\n",
    "$SS_{error} = \\sum_{i=1}^{k}\\sum_{j=1}^{n}\\big(y_ij-\\bar{y}_i)^2$\n",
    "\n",
    "\n",
    "$SS_{error} = 233.2 + 252.0 + 133.2 = 618.4$"
   ]
  },
  {
   "cell_type": "markdown",
   "metadata": {},
   "source": [
    "**3) Determine degrees of freedom for each**"
   ]
  },
  {
   "cell_type": "markdown",
   "metadata": {},
   "source": [
    "* $n = 5$\n",
    "* $k = 3$\n",
    "* $Df_{e} = k(n-1)$\n",
    "* $Df_{s} = k - 1$\n",
    "* $Df_{t} =\\; ?$"
   ]
  },
  {
   "cell_type": "markdown",
   "metadata": {},
   "source": [
    "**4) Use steps 1-3 to tabulate and calculate the MSs**"
   ]
  },
  {
   "cell_type": "markdown",
   "metadata": {},
   "source": [
    "5 different braks tested 6 times each\n",
    "\n",
    "| _ | DoF | [SS](#SS) | MS | F |\n",
    "|---|---|---|---|---|\n",
    "| Treatment | 4 | 200 | 50 | 12.5 |\n",
    "| Error | 25 | 100 | 4 | X |\n",
    "| Total | 29 | 300 | X | X |\n",
    "\n",
    "$DoF= n-1 = 4$\n",
    "\n",
    "\n",
    "$DoF_{total} = (n)(n_{trials})-1=29 $\n",
    "\n",
    "\n",
    "$DoF_{err} = DoF_{total} - DoF = 25$\n",
    "\n",
    "\n",
    "$MS = \\frac{SS}{DoF}$\n",
    "\n",
    "n is the members of the set\n",
    "\n",
    "k is the set\n",
    "\n",
    "| One Way ANOVA | $Df$ Formulas | [SS](#SS) formulas | MS formulas Short = Long | F formulas Short = Long |\n",
    "|---|:---|---|---|---|\n",
    "| treatment $(s)$ | $k - 1$ | $SS_s$ | $\\frac{SS_s}{Df_s} = \\frac{SS_s}{k-1}$ | $\\frac{MS_s}{MS_e} = \\frac{SS_s}{SS_e}\\frac{k(n-1)}{k-1}$  |\n",
    "| Error$(e) $ | $k(n-1)$ | $SS_e$ | $\\frac{SS_e}{Df_e} = \\frac{SS_e}{k(n-1)}$ | N/A |\n",
    "| Total$(t) $ | $n \\cdot{} k - 1$ | $SS_s + SS_e$ | <- always $X_s + X_e$ | N/A |\n",
    "\n",
    "---\n",
    "\n",
    "\n",
    "\n",
    "use in R:\n",
    "\n",
    "    qf(F, DoF, DoF_error)\n",
    "    qf(12.5, 4, 25)\n",
    "\n",
    "If the means are all the same, it means nothing. However, if there's at least one pair that's different then that is significant.\n",
    "\n",
    "\n"
   ]
  },
  {
   "cell_type": "markdown",
   "metadata": {},
   "source": [
    "## **Slide 35 W4R**"
   ]
  },
  {
   "cell_type": "markdown",
   "metadata": {},
   "source": [
    "### Two factor"
   ]
  },
  {
   "cell_type": "markdown",
   "metadata": {},
   "source": [
    "| Two Way ANOVA | DoF Formulas and stuff | [SS](#SS) |           MS                  |                  F                 |\n",
    "|:-------------|:---:|-----|-----------------------------------------|------------------------------------|\n",
    "| A | $k_{a} - 1$ | $SS_a$ | $\\frac{SS_{a}}{DoF_{a}}$ | $\\frac{MS_{a}}{MS_{e}}$ |\n",
    "| B | $k_{b} - 1$ | $SS_b$ | $\\frac{SS_{b}}{DoF_{b}}$ | $\\frac{MS_{b}}{MS_{e}}$ |\n",
    "| Error | $$(k_a - 1)(k_b - 1)$$ or $$Df_{t} - Df_a - Df_b$$ | $SS_{e}$ | $\\frac{SS_{e}}{DoF_{error}}$ |             N/A             |\n",
    "| Total       | $k_a \\cdot{} k_b - 1 $ | $SS_A + SS_B + SS_{err}$ |          N/A              |                 N/A                |"
   ]
  },
  {
   "cell_type": "markdown",
   "metadata": {},
   "source": [
    "## Combinations & Permutations"
   ]
  },
  {
   "cell_type": "markdown",
   "metadata": {},
   "source": [
    "### Permutations\n",
    "\n",
    "For a finite set of $N$ items, tere are $N!$ permutations.\n",
    "$$_{N}P_{N} = N!$$\n",
    "\n",
    "\n",
    "For a finite set of $k$ items selected from $N$ items, there are $N!$ permutations, divided by the $(N - k)!$ you don’t use.\n",
    "$$_{N}P_{k} = \\frac{N!}{( N - k )!}$$\n",
    "**note:** order still matters."
   ]
  },
  {
   "cell_type": "markdown",
   "metadata": {},
   "source": [
    "### Combinations\n",
    "\n",
    "For a finite set of $k$ items selected from $N$ items, there are $N!$ permutations, divided by the $(N - k)!$ you don’t use, divided by the $k!$ swapping that doesn’t matter to you for the combinations.\n",
    "$$_{N}C_{k} = \\bigg{(} {N \\atop k} \\bigg{)} = \\frac{N!}{(N-k)!(k!)}$$"
   ]
  },
  {
   "cell_type": "markdown",
   "metadata": {},
   "source": [
    "## Probability Rules"
   ]
  },
  {
   "cell_type": "markdown",
   "metadata": {},
   "source": [
    "### Laws of Probability"
   ]
  },
  {
   "cell_type": "markdown",
   "metadata": {},
   "source": [
    "#### Probability Basics\n",
    "| Mathematical Definition of Law (---adding space---) | Description |\n",
    "|---|---|\n",
    "| $P(A)$ | Probability of A occuring |\n",
    "| $P(\\neg{}A)$ | Probability of A NOT occuring |\n",
    "| $1 \\ge P(A) \\ge 0$ | Limits on quantified probability |\n",
    "| $P(A) + P(\\neg{}A) = 1$ | Law of excluded middle |\n",
    "| $P(A)=P(\\neg{}(\\neg{}A))$ | Law of Identity |\n",
    "| $P(A)\\cap{}P(\\neg{}A) = 0$ | Law of Non-contradiction |"
   ]
  },
  {
   "cell_type": "markdown",
   "metadata": {},
   "source": [
    "#### Probability of Two Events\n",
    "\n",
    "| Mathematical Definition of Law (---adding space---) | Description |\n",
    "|---|---|\n",
    "| $P(A \\cup{} B)$ | Probability of A **or** B occuring |\n",
    "| $P(A \\cap{} B)$ | Probability of A **and** B occuring |\n",
    "| $P(A \\cup{} B) = P(A) + P(B) - P(A \\cap{} B)$ | Always True |\n",
    "| $P(A \\cup{} B) = P(A) + P(B)$ | If A and B are mutually exclusive |\n",
    "| $P(A \\cap{} B) = P(A) \\times{} P(B)$ | If A and B are independant |"
   ]
  },
  {
   "cell_type": "markdown",
   "metadata": {},
   "source": [
    "### Bayesian Conditionals"
   ]
  },
  {
   "cell_type": "markdown",
   "metadata": {},
   "source": [
    "#### Probability of Two Possibly Related Events\n",
    "\n",
    "| Mathematical Definition of Law (---adding space---) | Description |\n",
    "|---|---|\n",
    "| $P(A|B)$ | Probability of A occuring, given that B occured |\n",
    "| $P(A|B)$ | Probability of A **Conditional on** B |\n",
    "| $P(A|B) = P(A)$ | If A and B are independent |\n",
    "| $P(A \\cap{} B) = P(A|B) \\times{} P(A)$ | Always Works! |"
   ]
  },
  {
   "cell_type": "markdown",
   "metadata": {},
   "source": [
    "#### Probability exmaple ( Baye's Rule)\n",
    "\n",
    "You know $P(A|B)$ but want to know $P(B|A)$.\n",
    "\n",
    "The example:\n",
    "**Labrador**\n",
    "You know the chance that a dog is yellow conditional on it being a labrador but you need to know the chance that the dog is a labrador given it is yellow.\n",
    "\n",
    "* $P(D_{yellow})$ - Probability a dog is yellow\n",
    "* $P(L)$ - Probablity a dog is a labrador\n",
    "* $P(D_{yellow} | L)$ Probability of a labrador being yellow\n",
    "* $P(L|D_{yellow})$ Probability of a yellow dob being a labrador\n",
    "\n",
    "Math:"
   ]
  },
  {
   "cell_type": "markdown",
   "metadata": {},
   "source": [
    "\\begin{aligned}\n",
    "P(D_{yellow} \\cap{} L) & = P(L | D_{yellow}) \\times{} P(D_{yellow})\\\\\n",
    "P(L\\cap{}D_{yellow}) & = P(D_{yellow}|L)\\times{}P(L)\\\\\n",
    "P(L\\cap{}D_{yellow}) & = P(D_{yellow}\\cap{}L)\\\\\n",
    "P(L|D_{yellow}) \\times{} P(D_{yellow}) & = P(D_{yellow} | L) \\times{} P(L)\\\\\n",
    "P(L|D_{yellow}) & = \\frac{P(D_{yellow}|l)\\times{}P(L)}{P(D_{yellow})}\\\\\n",
    "\\end{aligned}"
   ]
  },
  {
   "cell_type": "markdown",
   "metadata": {},
   "source": [
    "|Mathmatical Representation (---adding so space---) | Words to describe it |\n",
    "|---|---|\n",
    "| $P(D_{yellow})$ | Probability of dog being yellow (0.4) |\n",
    "| $P(L)$ | Probability of a dog being a labrador (0.8) |\n",
    "| $P(D_{yellow} | L)$ | Probability of a labrador being yellow (0.10) |\n",
    "| $P(L|D_{yellow})$ | Probablity of a yellow dog being a labrador |\n",
    "| $P(L|D_{yellow}) = \\frac{P(D_{yellow}|l)\\times{}P(L)}{P(D_{yellow})}$ | some mathing |\n",
    "| $P(L|D_{yellow}) = \\frac{(0.1)\\times{}(0.8)}{(0.4)}$ | more mathing |\n",
    "| $P(L|D_{yellow}) = 0.2$ | So there's a 20% chance that a yellow dog is a labrador! |\n",
    "\n",
    "So there's a 20% chance that a yellow dog is a labrador!\n",
    "\n",
    "Generalized: $P(A|B) = \\frac{P(B|A)\\times{}P(A)}{P(B)}$"
   ]
  },
  {
   "cell_type": "markdown",
   "metadata": {},
   "source": [
    "#### More Examples of Probability\n",
    "\n",
    "**Being an ME student in ME488:**\n",
    "\\begin{align}\n",
    "P(ME) & = 0.10\\\\\n",
    "P(ME488|ME) & = 0.40\\\\\n",
    "P(ME488|BA) & = 0\\\\\n",
    "P(ME(|ME488) & = 1\\\\\n",
    "P(BA|ME488) & = 0\\\\\n",
    "P(ME \\cup{} CE) & = 0\\\\\n",
    "\\end{align}\n",
    "\n",
    "**Test a machine for a broken part.**\n",
    "* 1 in 10,000 are broken\n",
    "* Your test is 99% accurate (False positive is 1%)\n",
    "* False Negative Rate = 0%\n",
    "\n",
    "##### BAGGED FOR NOW\n",
    "\n",
    "Your test says broken. What is the chance or probability his machine really is broken?\n",
    "* TB - Test says it's broken\n",
    "* TN - test says it's not broken\n",
    "* B - Broken\n",
    "* NB - Not broken\n",
    "\n",
    "| Mathematical Description (---with buffer space---) | Description |\n",
    "|---|---|\n",
    "| $P(B) = 0.0001$ | Probability it's broken |\n",
    "| $P(NB) = 0.9999$ | Probability it's not broken\n",
    "| $P(B|TB) = $? | Probability it's broken given the test says it's broken |\n",
    "| $P(TB|B) = 0.99$ | Probability the test says it's broken given it's broken |\n",
    "| $P(TN|B) = 0$ | Probability it's |\n",
    "| $P(TN|NB) = 1$ |  |\n",
    "| $P(TB|NB) = 0.01$ |  |\n"
   ]
  },
  {
   "cell_type": "markdown",
   "metadata": {},
   "source": [
    "\\begin{align}\n",
    "P(B|TB) &= \\frac{P(TB|B) \\cdot{} P(B)}{P(TB)}\\\\\\\\\n",
    "& and\\\\\\\\\n",
    "P(TB) &= P(TB|B)P(B) + P(TB|NB)P(NB)\\\\\\\\\n",
    "& substituting:\\\\\\\\\n",
    "P(B|TB) &= \\frac{P(TB|B) \\cdot{} P(B)}{P(TB|B)P(B) + P(TB|NB)P(NB)}\\\\\n",
    "P(B|TB) &= \\frac{0.99 \\cdot{} 0.0001}{(0.99)(0.0001) + (0.01)(0.999)}\\\\\n",
    "P(B|TB) &= 0.009804\\\\\n",
    "\\end{align}"
   ]
  },
  {
   "cell_type": "markdown",
   "metadata": {},
   "source": [
    "## Error Types\n",
    "\n",
    "| <img src=\"images/Types_of_error.jpg\" width=\"50%\"> |\n",
    "\n",
    "| Error Type | $H_o$ | $H_a$ Returned Significant |\n",
    "|---------|-------|-------|\n",
    "| [Type I](#t1error)  | True | True |\n",
    "| [Type II](#t2error) | False | False |\n",
    "\n",
    "Alternatively:\n",
    "\n",
    "| Error Types | $H_o$ True | $H_a$ True |\n",
    "|---|---|---|\n",
    "| $H_o$ Believed | No Error | **Type II** |\n",
    "| $H_a$ Believed | **Type I** | No Error |"
   ]
  },
  {
   "cell_type": "markdown",
   "metadata": {},
   "source": [
    "<a id=\"t1error\"></a>\n",
    "### Type I Error\n",
    "\n",
    "When a test statistic returns significant even though it **is not significant** and the alternative hypothesis **should** be rejected."
   ]
  },
  {
   "cell_type": "markdown",
   "metadata": {},
   "source": [
    "<a id=\"t2error\"></a>\n",
    "### Type II Error\n",
    "\n",
    "When a test statistic returns insignificant even though **it is significant** and the alternative hypothesis **should be accepted**."
   ]
  },
  {
   "cell_type": "markdown",
   "metadata": {},
   "source": [
    "## Calculators\n",
    "**MAKE SURE YOU RUN THE ENTIRE NOTEBOOK ON STARTUP!**\n",
    "\n",
    "\n",
    "Menu Bar > Cell > Run All"
   ]
  },
  {
   "cell_type": "markdown",
   "metadata": {},
   "source": [
    "<a id=\"pcalc\"></a>\n",
    "### P(Z)"
   ]
  },
  {
   "cell_type": "code",
   "execution_count": 37,
   "metadata": {},
   "outputs": [
    {
     "name": "stdout",
     "output_type": "stream",
     "text": [
      "p = 0.95; alpha = 0.05\n"
     ]
    }
   ],
   "source": [
    "# Regular function: norm.cdf(Z)\n",
    "zscore = 1.96\n",
    "\n",
    "confidence_p_level = 1 - 2 * (1 - norm.cdf(zscore))\n",
    "\n",
    "print('p = ' + str(round(confidence_p_level,3)) + '; alpha = ' + str(round(1-confidence_p_level, 3)))"
   ]
  },
  {
   "cell_type": "markdown",
   "metadata": {},
   "source": [
    "<a id=\"zcalc\"></a>\n",
    "### Z(P)"
   ]
  },
  {
   "cell_type": "code",
   "execution_count": 38,
   "metadata": {},
   "outputs": [
    {
     "name": "stdout",
     "output_type": "stream",
     "text": [
      "z-score = 1.96\n"
     ]
    }
   ],
   "source": [
    "# Regular function: norm.ppf(p)\n",
    "significance_alpha_level = 0.05\n",
    "\n",
    "# two sided, alpha / 2. Single sided, alpha \n",
    "# Use this if you want to determine a significant Z from alpha\n",
    "confidence_p_level = 1 - significance_alpha_level / 2\n",
    "\n",
    "zscore = norm.ppf(confidence_p_level)\n",
    "\n",
    "print('z-score = ' + str(round(zscore, 3)))"
   ]
  },
  {
   "cell_type": "markdown",
   "metadata": {},
   "source": [
    "### P(F)"
   ]
  },
  {
   "cell_type": "code",
   "execution_count": 35,
   "metadata": {},
   "outputs": [
    {
     "name": "stdout",
     "output_type": "stream",
     "text": [
      "p = 0.95 alpha = 0.05\n"
     ]
    }
   ],
   "source": [
    "fscore = 3.155\n",
    "df_treatment = 5\n",
    "df_error = 24\n",
    "\n",
    "#Two tailed\n",
    "confidence_p_level = 1- 2 * (1 - f.cdf(fscore, df_treatment, df_error, loc=0, scale=1))\n",
    "\n",
    "print('p = ' + str(round(confidence_p_level,3)) + ' alpha = ' + str(round(1-confidence_p_level, 3)))"
   ]
  },
  {
   "cell_type": "markdown",
   "metadata": {},
   "source": [
    "### F(P)"
   ]
  },
  {
   "cell_type": "code",
   "execution_count": 32,
   "metadata": {},
   "outputs": [
    {
     "name": "stdout",
     "output_type": "stream",
     "text": [
      "F-stat = 3.885\n"
     ]
    }
   ],
   "source": [
    "significance_alpha_level = 0.05\n",
    "df_treatment = 2\n",
    "df_error = 12\n",
    "\n",
    "# two sided, alpha / 2. Single sided, alpha \n",
    "# Use this if you want to determine a significant Z from alpha\n",
    "confidence_p_level = 1 - significance_alpha_level\n",
    "\n",
    "# Two Tailed\n",
    "fscore = f.ppf(confidence_p_level, df_treatment, df_error)\n",
    "\n",
    "print('F-stat = ' + str(round(fscore, 3)))"
   ]
  },
  {
   "cell_type": "code",
   "execution_count": null,
   "metadata": {},
   "outputs": [],
   "source": []
  },
  {
   "cell_type": "markdown",
   "metadata": {},
   "source": [
    "### this Calculator"
   ]
  },
  {
   "cell_type": "code",
   "execution_count": 1,
   "metadata": {},
   "outputs": [
    {
     "ename": "NameError",
     "evalue": "name 'jnobsgonos' is not defined",
     "output_type": "error",
     "traceback": [
      "\u001b[1;31m---------------------------------------------------------------------------\u001b[0m",
      "\u001b[1;31mNameError\u001b[0m                                 Traceback (most recent call last)",
      "\u001b[1;32m<ipython-input-1-e58672fa5ee1>\u001b[0m in \u001b[0;36m<module>\u001b[1;34m\u001b[0m\n\u001b[1;32m----> 1\u001b[1;33m \u001b[0mjnobsgonos\u001b[0m\u001b[1;33m\u001b[0m\u001b[0m\n\u001b[0m",
      "\u001b[1;31mNameError\u001b[0m: name 'jnobsgonos' is not defined"
     ]
    }
   ],
   "source": [
    "jnobsgonos"
   ]
  },
  {
   "cell_type": "markdown",
   "metadata": {},
   "source": [
    "### That Calculator"
   ]
  },
  {
   "cell_type": "code",
   "execution_count": null,
   "metadata": {},
   "outputs": [],
   "source": []
  }
 ],
 "metadata": {
  "kernelspec": {
   "display_name": "Python 3",
   "language": "python",
   "name": "python3"
  },
  "language_info": {
   "codemirror_mode": {
    "name": "ipython",
    "version": 3
   },
   "file_extension": ".py",
   "mimetype": "text/x-python",
   "name": "python",
   "nbconvert_exporter": "python",
   "pygments_lexer": "ipython3",
   "version": "3.6.6"
  },
  "toc": {
   "base_numbering": 1,
   "nav_menu": {
    "height": "147.995px",
    "width": "191.866px"
   },
   "number_sections": false,
   "sideBar": true,
   "skip_h1_title": true,
   "title_cell": "Table of Contents",
   "title_sidebar": "Contents",
   "toc_cell": true,
   "toc_position": {
    "height": "calc(100% - 180px)",
    "left": "10px",
    "top": "150px",
    "width": "165px"
   },
   "toc_section_display": true,
   "toc_window_display": true
  }
 },
 "nbformat": 4,
 "nbformat_minor": 2
}

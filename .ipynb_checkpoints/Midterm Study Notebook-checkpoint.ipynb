{
 "cells": [
  {
   "cell_type": "markdown",
   "metadata": {
    "toc": true
   },
   "source": [
    "<h1>Table of Contents<span class=\"tocSkip\"></span></h1>\n",
    "<div class=\"toc\"><ul class=\"toc-item\"><li><span><a href=\"#Notes-on-this-Notebook\" data-toc-modified-id=\"Notes-on-this-Notebook-1\">Notes on this Notebook</a></span></li><li><span><a href=\"#Definitions\" data-toc-modified-id=\"Definitions-2\">Definitions</a></span></li><li><span><a href=\"#Abbreviations\" data-toc-modified-id=\"Abbreviations-3\">Abbreviations</a></span></li><li><span><a href=\"#Measurement-and-Data-Collection-(Variables,-etc.)\" data-toc-modified-id=\"Measurement-and-Data-Collection-(Variables,-etc.)-4\">Measurement and Data Collection (Variables, etc.)</a></span><ul class=\"toc-item\"><li><span><a href=\"#Categorical\" data-toc-modified-id=\"Categorical-4.1\">Categorical</a></span></li><li><span><a href=\"#Continuous\" data-toc-modified-id=\"Continuous-4.2\">Continuous</a></span></li><li><span><a href=\"#Validity\" data-toc-modified-id=\"Validity-4.3\">Validity</a></span></li><li><span><a href=\"#Reliability\" data-toc-modified-id=\"Reliability-4.4\">Reliability</a></span></li><li><span><a href=\"#Types-of-Research\" data-toc-modified-id=\"Types-of-Research-4.5\">Types of Research</a></span></li></ul></li><li><span><a href=\"#Types-of-Variation-in-Data\" data-toc-modified-id=\"Types-of-Variation-in-Data-5\">Types of Variation in Data</a></span></li><li><span><a href=\"#Measures-of-Central-Tendency\" data-toc-modified-id=\"Measures-of-Central-Tendency-6\">Measures of Central Tendency</a></span><ul class=\"toc-item\"><li><span><a href=\"#Mean\" data-toc-modified-id=\"Mean-6.1\">Mean</a></span></li><li><span><a href=\"#Median\" data-toc-modified-id=\"Median-6.2\">Median</a></span></li><li><span><a href=\"#Mode\" data-toc-modified-id=\"Mode-6.3\">Mode</a></span></li></ul></li><li><span><a href=\"#Measures-of-Spread\" data-toc-modified-id=\"Measures-of-Spread-7\">Measures of Spread</a></span><ul class=\"toc-item\"><li><span><a href=\"#Sum-of-Squared-Errors\" data-toc-modified-id=\"Sum-of-Squared-Errors-7.1\">Sum of Squared Errors</a></span></li><li><span><a href=\"#Variance\" data-toc-modified-id=\"Variance-7.2\">Variance</a></span></li><li><span><a href=\"#Standard-Deviation-(S)\" data-toc-modified-id=\"Standard-Deviation-(S)-7.3\">Standard Deviation (S)</a></span></li><li><span><a href=\"#Z-Scores\" data-toc-modified-id=\"Z-Scores-7.4\">Z-Scores</a></span></li></ul></li><li><span><a href=\"#Descriptive-Statistics\" data-toc-modified-id=\"Descriptive-Statistics-8\">Descriptive Statistics</a></span><ul class=\"toc-item\"><li><span><a href=\"#Quartiles\" data-toc-modified-id=\"Quartiles-8.1\">Quartiles</a></span></li><li><span><a href=\"#Percentiles\" data-toc-modified-id=\"Percentiles-8.2\">Percentiles</a></span></li><li><span><a href=\"#Box-Plot\" data-toc-modified-id=\"Box-Plot-8.3\">Box Plot</a></span></li></ul></li><li><span><a href=\"#Central-Limit-Theorem\" data-toc-modified-id=\"Central-Limit-Theorem-9\">Central Limit Theorem</a></span></li><li><span><a href=\"#Probability-Distributions\" data-toc-modified-id=\"Probability-Distributions-10\">Probability Distributions</a></span><ul class=\"toc-item\"><li><span><a href=\"#Probability-Mass-Function-(PMF)\" data-toc-modified-id=\"Probability-Mass-Function-(PMF)-10.1\">Probability Mass Function (PMF)</a></span></li><li><span><a href=\"#Probability-Density-Function\" data-toc-modified-id=\"Probability-Density-Function-10.2\">Probability Density Function</a></span><ul class=\"toc-item\"><li><span><a href=\"#Continuous-PDF\" data-toc-modified-id=\"Continuous-PDF-10.2.1\">Continuous PDF</a></span></li><li><span><a href=\"#Triangular-PDF\" data-toc-modified-id=\"Triangular-PDF-10.2.2\">Triangular PDF</a></span></li><li><span><a href=\"#Binomial-Discrete---PMF\" data-toc-modified-id=\"Binomial-Discrete---PMF-10.2.3\">Binomial Discrete - PMF</a></span></li><li><span><a href=\"#Normal-Continuous\" data-toc-modified-id=\"Normal-Continuous-10.2.4\">Normal Continuous</a></span></li></ul></li></ul></li><li><span><a href=\"#Hypothesis-Testing\" data-toc-modified-id=\"Hypothesis-Testing-11\">Hypothesis Testing</a></span><ul class=\"toc-item\"><li><span><a href=\"#T-test\" data-toc-modified-id=\"T-test-11.1\">T-test</a></span></li></ul></li><li><span><a href=\"#Covariance\" data-toc-modified-id=\"Covariance-12\">Covariance</a></span></li><li><span><a href=\"#Regression\" data-toc-modified-id=\"Regression-13\">Regression</a></span></li><li><span><a href=\"#ANOVA\" data-toc-modified-id=\"ANOVA-14\">ANOVA</a></span></li><li><span><a href=\"#Z-Scaling\" data-toc-modified-id=\"Z-Scaling-15\">Z-Scaling</a></span></li><li><span><a href=\"#Pearson-$R$\" data-toc-modified-id=\"Pearson-$R$-16\">Pearson $R$</a></span></li><li><span><a href=\"#Spearman-$\\rho$\" data-toc-modified-id=\"Spearman-$\\rho$-17\">Spearman $\\rho$</a></span></li><li><span><a href=\"#Kendall-$\\tau$\" data-toc-modified-id=\"Kendall-$\\tau$-18\">Kendall $\\tau$</a></span></li><li><span><a href=\"#Combinations-&amp;-Permutations\" data-toc-modified-id=\"Combinations-&amp;-Permutations-19\">Combinations &amp; Permutations</a></span><ul class=\"toc-item\"><li><span><a href=\"#Permutations\" data-toc-modified-id=\"Permutations-19.1\">Permutations</a></span></li><li><span><a href=\"#Combinations\" data-toc-modified-id=\"Combinations-19.2\">Combinations</a></span></li></ul></li><li><span><a href=\"#Probability-Rules\" data-toc-modified-id=\"Probability-Rules-20\">Probability Rules</a></span><ul class=\"toc-item\"><li><span><a href=\"#Laws-of-Probability\" data-toc-modified-id=\"Laws-of-Probability-20.1\">Laws of Probability</a></span><ul class=\"toc-item\"><li><span><a href=\"#Probability-Basics\" data-toc-modified-id=\"Probability-Basics-20.1.1\">Probability Basics</a></span></li><li><span><a href=\"#Probability-of-Two-Events\" data-toc-modified-id=\"Probability-of-Two-Events-20.1.2\">Probability of Two Events</a></span></li><li><span><a href=\"#Probability-of-Two-Possibly-Related-Events\" data-toc-modified-id=\"Probability-of-Two-Possibly-Related-Events-20.1.3\">Probability of Two Possibly Related Events</a></span></li><li><span><a href=\"#Probability-exmaple-(-Baye's-Rule)\" data-toc-modified-id=\"Probability-exmaple-(-Baye's-Rule)-20.1.4\">Probability exmaple ( Baye's Rule)</a></span></li><li><span><a href=\"#More-Examples-of-Probability\" data-toc-modified-id=\"More-Examples-of-Probability-20.1.5\">More Examples of Probability</a></span><ul class=\"toc-item\"><li><span><a href=\"#BAGGED-FOR-NOW\" data-toc-modified-id=\"BAGGED-FOR-NOW-20.1.5.1\">BAGGED FOR NOW</a></span></li></ul></li></ul></li></ul></li><li><span><a href=\"#Bayesian-Conditionals\" data-toc-modified-id=\"Bayesian-Conditionals-21\">Bayesian Conditionals</a></span></li><li><span><a href=\"#Error-Types\" data-toc-modified-id=\"Error-Types-22\">Error Types</a></span><ul class=\"toc-item\"><li><span><a href=\"#Type-I-Error\" data-toc-modified-id=\"Type-I-Error-22.1\">Type I Error</a></span></li><li><span><a href=\"#Type-II-Error\" data-toc-modified-id=\"Type-II-Error-22.2\">Type II Error</a></span></li></ul></li><li><span><a href=\"#Calculators\" data-toc-modified-id=\"Calculators-23\">Calculators</a></span><ul class=\"toc-item\"><li><span><a href=\"#this-Calculator\" data-toc-modified-id=\"this-Calculator-23.1\">this Calculator</a></span></li><li><span><a href=\"#That-Calculator\" data-toc-modified-id=\"That-Calculator-23.2\">That Calculator</a></span></li></ul></li></ul></div>"
   ]
  },
  {
   "cell_type": "markdown",
   "metadata": {},
   "source": [
    "## Notes on this Notebook\n",
    "\n",
    "\n",
    "using [nbextensions](https://github.com/ipython-contrib/jupyter_contrib_nbextensions)\n",
    "* Install using the **conda** command in your **anaconda prompt with admin privelages**\n",
    "* Enable table of contents (2) *toc2* once installed\n",
    "\n",
    "\n",
    "**[Github Repository](https://github.com/MechBertrand/design-of-experiments.git)**"
   ]
  },
  {
   "cell_type": "markdown",
   "metadata": {},
   "source": [
    "# DOE Midterm Notebook"
   ]
  },
  {
   "cell_type": "markdown",
   "metadata": {},
   "source": [
    "## Definitions\n",
    "* **Theory:** A hypothesized general principle or set of principles that explains known findings about a topic and from which new hypotheses can be generated.\n",
    "\n",
    "\n",
    "* **Hypothesis:** A prediction from a theory\n",
    "\n",
    "\n",
    "* **Falsification:** The act of *disproving* a theory or hypothesis\n",
    "\n",
    "\n",
    "* **Independant variable:** Proposed Cause. \n",
    "  * *Input variable*\n",
    "  * *predictor variable*  \n",
    "  * *manipulated(experiment) variable*\n",
    "  \n",
    "  \n",
    "* **Dependent Variable:** Proposed Effect. \n",
    "  * *Outcome variable*\n",
    "  * *non-manipulated variable(experiments)*\n",
    "  \n",
    "  \n",
    "* **Deviation:** The difference between the mean (or predicted value) and an actual data point\n",
    "  * $deviation = x_i - \\bar{x}$\n",
    "\n",
    "\n",
    "* ****"
   ]
  },
  {
   "cell_type": "markdown",
   "metadata": {},
   "source": [
    "## Abbreviations\n",
    "\n",
    "* **[PDF](#PDF)** - Probability Density Function\n",
    "\n",
    "* **[PMF](#PMF)** - Probability Mass Function\n",
    "\n",
    "* **[S](#stdev)** - Standard Deviation of a sample\n",
    "\n",
    "* **[SS](#SS)** - Sum of Squared Errors"
   ]
  },
  {
   "cell_type": "markdown",
   "metadata": {},
   "source": [
    "## Measurement and Data Collection (Variables, etc.)"
   ]
  },
  {
   "cell_type": "markdown",
   "metadata": {},
   "source": [
    "### Categorical\n",
    "Divided into bins or *distinct* categories\n",
    "\n",
    "* **Binary Variable:** Two categories\n",
    "\n",
    "* **Nominal Variable:** More than two categories\n",
    "\n",
    "* **Ordinal Variable:** Same as Nominal, but in a logical order\n",
    "\n",
    "### Continuous\n",
    "Not divided into bins, able to take any value in the range\n",
    "* **Interval Variable:** Equal distances (or intervals) in the variable represent equal difference in property being measured\n",
    "  * Celsius, Fahrenheit\n",
    "\n",
    "\n",
    "* **Ratio Variable:** Same as interval, but the ratio of scores on the scale must make sense.\n",
    "  * Kelvin, Rankine"
   ]
  },
  {
   "cell_type": "markdown",
   "metadata": {},
   "source": [
    "### Validity\n",
    "\n",
    "Does your instrument measure what you intended to measure?\n",
    "* **Content Validity:** Evidence that the content of a test corresponds to the content of the construct it was designed to deliver\n",
    "  * Does it make logical scientific sense?\n",
    "\n",
    "\n",
    "* **Ecological Validity:** Evidence that the results of study, experiment or test can be applied, and allow inferences, to real-world conditions\n",
    "  * Is it usable in from a practical sense?\n",
    "  \n",
    "  **Example:** Knots versus pitot-static with ship speed"
   ]
  },
  {
   "cell_type": "markdown",
   "metadata": {},
   "source": [
    "### Reliability\n",
    "\n",
    "* **Definition:** The ability of the measure to produce the same results under the same conditions\n",
    "\n",
    "\n",
    "* **Test-Retest Reliability:** The ability of a measure to produve consistent result when the same entities are tested at two different points in time"
   ]
  },
  {
   "cell_type": "markdown",
   "metadata": {},
   "source": [
    "### Types of Research\n",
    "\n",
    "* **Correlative:** Observing what naturally goes on in the world without directly interfering with it\n",
    "\n",
    "\n",
    "* **Cross Sectional:** Implies that data come from entities at different age points, with different entities representing each age point\n",
    "\n",
    "\n",
    "* **Experimental:** One or more variable is systematically manipulated to see their effect (alone or in combination) on an outcome variable"
   ]
  },
  {
   "cell_type": "markdown",
   "metadata": {},
   "source": [
    "## Types of Variation in Data\n",
    "\n",
    "* **Systematic Variation:** Differences in performance created by a specific experimental manipulation or known factors\n",
    "\n",
    "\n",
    "* **Unsystematic Variation:** Differences in performance created by unknown factors\n",
    "\n",
    "\n",
    "* **Randomization:** A method to minimize impact of unsystematic variation"
   ]
  },
  {
   "cell_type": "markdown",
   "metadata": {},
   "source": [
    "## Measures of Central Tendency"
   ]
  },
  {
   "cell_type": "markdown",
   "metadata": {},
   "source": [
    "### Mean\n",
    "\n",
    "The Sum of the data values divided by the number of values\n",
    "* Also known as the Average, or the ’Arithmetic Mean’\n",
    "$$\\bar{X} = \\frac{ \\sum_{i=1}^n X_i}{n}$$"
   ]
  },
  {
   "cell_type": "markdown",
   "metadata": {},
   "source": [
    "### Median\n",
    "The 'middle' value when data is ordered.\n",
    "\n",
    "\\begin{align}\n",
    "\\begin{matrix}\n",
    "\\big [ 22 & 40 & 53 & 57 & 93 & \\textbf{98} & 103 & 108 & 116 & 121 & 252 \\big ]\n",
    "\\end{matrix}\n",
    "\\end{align}"
   ]
  },
  {
   "cell_type": "markdown",
   "metadata": {},
   "source": [
    "### Mode\n",
    "The most frequent value in a set of numbers\n",
    "* **Bimodal:** The set of numbers has two modes\n",
    "\n",
    "\n",
    "* **Multimodal:** The set of numbers has several modes"
   ]
  },
  {
   "cell_type": "markdown",
   "metadata": {},
   "source": [
    "## Measures of Spread"
   ]
  },
  {
   "cell_type": "markdown",
   "metadata": {},
   "source": [
    "<a id=\"SS\"></a>\n",
    "### Sum of Squared Errors\n",
    "Literally the error squared then summed.\n",
    "$$\\sum{}\\big(X_i - \\bar{X}\\big)^2$$"
   ]
  },
  {
   "cell_type": "markdown",
   "metadata": {},
   "source": [
    "### Variance\n",
    "The average of the [SS](#SS)\n",
    "* Uses n-1 samples for non-population sample sizes, n for population sample sizes\n",
    "$$Variance = \\frac{\\sum{}\\big(X_i - \\bar{X}\\big)^2}{n-1}$$"
   ]
  },
  {
   "cell_type": "markdown",
   "metadata": {},
   "source": [
    "<a id=\"stdev\"></a>\n",
    "### Standard Deviation (S)\n",
    "The square root of the Variance\n",
    "$$S = \\sqrt{\\frac{\\sum{}\\big(X_i - \\bar{X}\\big)^2}{n-1}}$$"
   ]
  },
  {
   "cell_type": "markdown",
   "metadata": {},
   "source": [
    "### Z-Scores\n",
    "* A way to standardize the values in your data with respect to other values in the same group\n",
    "* Number of standard deviations awayf rom the mean your datapoint is\n",
    "* **Scales** your values to a set of values that have a means of 0 and a standard deviationof 1\n",
    "\n",
    "$$Z_i = \\frac{X_i - \\bar{x}}{S}$$\n",
    "\n",
    "**DOES NOT CHANGE YOUR DATA TO LOOK LIKE A NORMAL DISTRIBUTION**"
   ]
  },
  {
   "cell_type": "markdown",
   "metadata": {},
   "source": [
    "## Descriptive Statistics"
   ]
  },
  {
   "cell_type": "markdown",
   "metadata": {},
   "source": [
    "### Quartiles\n",
    "A set of **three** values that split the dataset into four equal sized groups\n",
    "\n",
    "* **First Quartile (Q1)**\n",
    "  * Lower Quartile\n",
    "  * Splits the lowest 25%\n",
    "  \n",
    "  \n",
    "* **Second Quartile (Q2)**\n",
    "  * Middle Quartile\n",
    "  * Cuts the dataset in half\n",
    "  \n",
    "  \n",
    "* **Third Quartile (Q3)**\n",
    "  * Upper Quartile\n",
    "  * Splits the highest 25% (or the lowest 75%)\n",
    "  \n",
    "  \n",
    "* **Interquartile Range (IQR)**\n",
    "  * Q3 - Q1"
   ]
  },
  {
   "cell_type": "markdown",
   "metadata": {},
   "source": [
    "### Percentiles\n",
    "Same as quartiles except doesn't necessarily rest at a multiple of 25%.\n",
    "* The datapoint under which the given X% percentile of data lies below."
   ]
  },
  {
   "cell_type": "markdown",
   "metadata": {},
   "source": [
    "### Box Plot\n",
    "| Lower Whisker | Lower Bar | Middle Bar | Upper Bar | Upper Whisker |\n",
    "|----|----|----|----|----|\n",
    "| $10^{th}$ Percentile | Q1 | Q2 | Q3 | $90^{th}$ Percentile |\n",
    "\n",
    "<img src=\"images/boxplot.png\" width=\"50%\">\n",
    "\n",
    "**Note:** Sometimes a dot is used to denote mean and/or the whiskers denoth $5^{th}$ and $95^{th}$ percentiles"
   ]
  },
  {
   "cell_type": "markdown",
   "metadata": {},
   "source": [
    "## Central Limit Theorem"
   ]
  },
  {
   "cell_type": "markdown",
   "metadata": {},
   "source": [
    "## Probability Distributions\n",
    "\n",
    "* **Frequency Distributions:** How many times something did happen\n",
    "\n",
    "* **Probability Distribution:** How many times something SHOULD HAVE happened or WILL occur"
   ]
  },
  {
   "cell_type": "markdown",
   "metadata": {},
   "source": [
    "<a id=\"PMF\"></a>\n",
    "### Probability Mass Function (PMF)\n",
    "**Discrete Distribution** - Specific values can be tan and are described by the PMF. The **total area under the points** is equal to 1.\n",
    "\n",
    "\n",
    "$$\\sum_{u}{Pr}\\big(X=u\\big)=1$$"
   ]
  },
  {
   "cell_type": "markdown",
   "metadata": {},
   "source": [
    "<a id=\"PDF\"></a>\n",
    "### Probability Density Function\n",
    "**Continuous Distribution** - Values could be taken over entire domain. The **total area under the curve** is equal to 1.\n",
    "\n",
    "When taken between two values, this can be defined as:\n",
    "$$Pr\\big[-\\inf{}\\le{}X\\le{}\\inf{}\\big]=1$$\n",
    "$$Pr\\big[a\\le{}X\\le{}b\\big]=\\int_{a}^{b}f(X)dx$$"
   ]
  },
  {
   "cell_type": "markdown",
   "metadata": {},
   "source": [
    "#### Continuous PDF\n",
    "All possibilities are equal across the domain. Possibilities are infinite but domain is limited.\n",
    "\n",
    "| <img src=\"images/uniform_graph.png\" width=\"50%\"> | $$f(X) = \\bigg{\\{}{\\frac{1}{b-a}, a \\le{} X \\le{} b \\atop 0, X \\lt a \\lor X \\gt b}$$ |\n",
    "|---|---|"
   ]
  },
  {
   "cell_type": "markdown",
   "metadata": {},
   "source": [
    "#### Triangular PDF\n",
    "Used quite extensively in simulation, since it has bounds, and you might have a general idea as to the max (a), min (b) and the most likely (c) values. More useful than uniform\n",
    "\n",
    "| <img src=\"images/triangular_graph.png\" width=\"50%\"> | $$f(x|a,b,c)=\\left\\{ \\begin{align}{{0, X\\lt{} a \\atop \\frac{2(X-1)}{(b-a)(c-a)}, a \\le{} X \\le{} c } \\atop {\\frac{2(b-X)}{(b-a)(b-c)}, c \\le{} X \\le{} b \\atop 0, b \\le{} X}}\\end{align}\\right.$$ |\n",
    "|---|---|"
   ]
  },
  {
   "cell_type": "markdown",
   "metadata": {},
   "source": [
    "#### Binomial Discrete - PMF\n",
    "Used to describe a series of Pass/Fail trials. Not all have to be 50/50. N= Number of trials and p=probability of success in each trial.\n",
    "\n",
    "| <img src=\"images/bidisc_graph.png\" width=\"50%\"> | $$Pr(X=k)=\\bigg({N \\atop k}\\bigg) p^{k}(1-p)^{N-k}$$ |\n",
    "|---|---|"
   ]
  },
  {
   "cell_type": "markdown",
   "metadata": {},
   "source": [
    "#### Normal Continuous\n",
    "Also, known as Gaussian. Used for many applications, including means testing by way of sampling. Has serious limitations, especially in simulations.\n",
    "\n",
    "| <img src=\"images/nocont_graph.png\" width=\"50%\"> | $$f(X)=\\frac{1}{\\sigma{}\\sqrt{2\\pi{}}}e^\\frac{-(x-\\mu{})^2}{2\\sigma{}^2}$$ |\n",
    "|---|---|"
   ]
  },
  {
   "cell_type": "markdown",
   "metadata": {},
   "source": [
    "## Hypothesis Testing\n",
    "\n",
    "### T-test"
   ]
  },
  {
   "cell_type": "markdown",
   "metadata": {},
   "source": [
    "## Covariance"
   ]
  },
  {
   "cell_type": "markdown",
   "metadata": {},
   "source": [
    "## Regression"
   ]
  },
  {
   "cell_type": "markdown",
   "metadata": {},
   "source": [
    "## ANOVA"
   ]
  },
  {
   "cell_type": "markdown",
   "metadata": {},
   "source": [
    "Tells you at least one thing is different given a set fo variances.\n",
    "\n",
    "Treatments\n",
    "\n",
    "| 1 | 2 | 3 |\n",
    "|---|---|---|\n",
    "| $\\sigma{}_1$ | $\\sigma{}_2$ | $\\sigma{}_3$ |\n",
    "\n",
    "\n",
    "If the means are all the same, it means nothing. However, if there's at least one pair that's different then that is significant.\n",
    "\n",
    "| _ | DoF | [SS](#SS) | MS | F |\n",
    "|---|---|---|---|---|\n",
    "| Treatment | 4 | 200 | 50 | 12.5 |\n",
    "| Error | 25 | 100 | 4 |  |\n",
    "| Total | 29 | 300 |  |  |\n",
    "\n",
    "5 different braks tested 6 times each\n",
    "\n",
    "\n",
    "$DoF= n-1 = 4$\n",
    "\n",
    "\n",
    "$DoF_{total} = (n)(n_{trials})-1=29 $\n",
    "\n",
    "\n",
    "$DoF_{err} = DoF_{total} - DoF = 25$\n",
    "\n",
    "$MS = \\frac{SS}{DoF}$\n",
    "\n",
    "use in R:\n",
    "\n",
    "    qf(F, DoF, DoF_error)\n",
    "    qf(12.5, 4, 25)\n",
    "\n",
    "If the means are all the same, it means nothing. However, if there's at least one pair that's different then that is significant.\n",
    "\n",
    "\n"
   ]
  },
  {
   "cell_type": "markdown",
   "metadata": {},
   "source": [
    "## Z-Scaling"
   ]
  },
  {
   "cell_type": "markdown",
   "metadata": {},
   "source": [
    "## Pearson $R$"
   ]
  },
  {
   "cell_type": "markdown",
   "metadata": {},
   "source": [
    "## Spearman $\\rho$"
   ]
  },
  {
   "cell_type": "markdown",
   "metadata": {},
   "source": [
    "## Kendall $\\tau$"
   ]
  },
  {
   "cell_type": "markdown",
   "metadata": {},
   "source": [
    "## Combinations & Permutations"
   ]
  },
  {
   "cell_type": "markdown",
   "metadata": {},
   "source": [
    "### Permutations\n",
    "\n",
    "For a finite set of $N$ items, tere are $N!$ permutations.\n",
    "$$_{N}P_{N} = N!$$\n",
    "\n",
    "\n",
    "For a finite set of $k$ items selected from $N$ items, there are $N!$ permutations, divided by the $(N - k)!$ you don’t use.\n",
    "$$_{N}P_{k} = \\frac{N!}{( N - k )!}$$\n",
    "**note:** order still matters."
   ]
  },
  {
   "cell_type": "markdown",
   "metadata": {},
   "source": [
    "### Combinations\n",
    "\n",
    "For a finite set of $k$ items selected from $N$ items, there are $N!$ permutations, divided by the $(N - k)!$ you don’t use, divided by the $k!$ swapping that doesn’t matter to you for the combinations.\n",
    "$$_{N}C_{k} = \\bigg{(} {N \\atop k} \\bigg{)} = \\frac{N!}{(N-k)!(k!)}$$"
   ]
  },
  {
   "cell_type": "markdown",
   "metadata": {},
   "source": [
    "## Probability Rules"
   ]
  },
  {
   "cell_type": "markdown",
   "metadata": {},
   "source": [
    "### Laws of Probability"
   ]
  },
  {
   "cell_type": "markdown",
   "metadata": {},
   "source": [
    "#### Probability Basics\n",
    "| Mathematical Definition of Law (---adding space---) | Description |\n",
    "|---|---|\n",
    "| $P(A)$ | Probability of A occuring |\n",
    "| $P(\\neg{}A)$ | Probability of A NOT occuring |\n",
    "| $1 \\ge P(A) \\ge 0$ | Limits on quantified probability |\n",
    "| $P(A) + P(\\neg{}A) = 1$ | Law of excluded middle |\n",
    "| $P(A)=P(\\neg{}(\\neg{}A))$ | Law of Identity |\n",
    "| $P(A)\\cap{}P(\\neg{}A) = 0$ | Law of Non-contradiction |"
   ]
  },
  {
   "cell_type": "markdown",
   "metadata": {},
   "source": [
    "#### Probability of Two Events\n",
    "\n",
    "| Mathematical Definition of Law (---adding space---) | Description |\n",
    "|---|---|\n",
    "| $P(A \\cup{} B)$ | Probability of A **or** B occuring |\n",
    "| $P(A \\cap{} B)$ | Probability of A **and** B occuring |\n",
    "| $P(A \\cup{} B) = P(A) + P(B) - P(A \\cap{} B)$ | Always True |\n",
    "| $P(A \\cup{} B) = P(A) + P(B)$ | If A and B are mutually exclusive |\n",
    "| $P(A \\cap{} B) = P(A) \\times{} P(B)$ | If A and B are independant |"
   ]
  },
  {
   "cell_type": "markdown",
   "metadata": {},
   "source": [
    "#### Probability of Two Possibly Related Events\n",
    "\n",
    "| Mathematical Definition of Law (---adding space---) | Description |\n",
    "|---|---|\n",
    "| $P(A|B)$ | Probability of A occuring, given that B occured |\n",
    "| $P(A|B)$ | Probability of A **Conditional on** B |\n",
    "| $P(A|B) = P(A)$ | If A and B are independent |\n",
    "| $P(A \\cap{} B) = P(A|B) \\times{} P(A)$ | Always Works! |"
   ]
  },
  {
   "cell_type": "markdown",
   "metadata": {},
   "source": [
    "#### Probability exmaple ( Baye's Rule)\n",
    "\n",
    "You know $P(A|B)$ but want to know $P(B|A)$.\n",
    "\n",
    "The example:\n",
    "**Labrador**\n",
    "You know the chance that a dog is yellow conditional on it being a labrador but you need to know the chance that the dog is a labrador given it is yellow.\n",
    "\n",
    "* $P(D_{yellow})$ - Probability a dog is yellow\n",
    "* $P(L)$ - Probablity a dog is a labrador\n",
    "* $P(D_{yellow} | L)$ Probability of a labrador being yellow\n",
    "* $P(L|D_{yellow})$ Probability of a yellow dob being a labrador\n",
    "\n",
    "Math:"
   ]
  },
  {
   "cell_type": "markdown",
   "metadata": {},
   "source": [
    "\\begin{aligned}\n",
    "P(D_{yellow} \\cap{} L) & = P(L | D_{yellow}) \\times{} P(D_{yellow})\\\\\n",
    "P(L\\cap{}D_{yellow}) & = P(D_{yellow}|L)\\times{}P(L)\\\\\n",
    "P(L\\cap{}D_{yellow}) & = P(D_{yellow}\\cap{}L)\\\\\n",
    "P(L|D_{yellow}) \\times{} P(D_{yellow}) & = P(D_{yellow} | L) \\times{} P(L)\\\\\n",
    "P(L|D_{yellow}) & = \\frac{P(D_{yellow}|l)\\times{}P(L)}{P(D_{yellow})}\\\\\n",
    "\\end{aligned}"
   ]
  },
  {
   "cell_type": "markdown",
   "metadata": {},
   "source": [
    "|Mathmatical Representation (---adding so space---) | Words to describe it |\n",
    "|---|---|\n",
    "| $P(D_{yellow})$ | Probability of dog being yellow (0.4) |\n",
    "| $P(L)$ | Probability of a dog being a labrador (0.8) |\n",
    "| $P(D_{yellow} | L)$ | Probability of a labrador being yellow (0.10) |\n",
    "| $P(L|D_{yellow})$ | Probablity of a yellow dog being a labrador |\n",
    "| $P(L|D_{yellow}) = \\frac{P(D_{yellow}|l)\\times{}P(L)}{P(D_{yellow})}$ | some mathing |\n",
    "| $P(L|D_{yellow}) = \\frac{(0.1)\\times{}(0.8)}{(0.4)}$ | more mathing |\n",
    "| $P(L|D_{yellow}) = 0.2$ | So there's a 20% chance that a yellow dog is a labrador! |\n",
    "\n",
    "So there's a 20% chance that a yellow dog is a labrador!\n",
    "\n",
    "Generalized: $P(A|B) = \\frac{P(B|A)\\times{}P(A)}{P(B)}$"
   ]
  },
  {
   "cell_type": "markdown",
   "metadata": {},
   "source": [
    "#### More Examples of Probability\n",
    "\n",
    "**Being an ME student in ME488:**\n",
    "\\begin{align}\n",
    "P(ME) & = 0.10\\\\\n",
    "P(ME488|ME) & = 0.40\\\\\n",
    "P(ME488|BA) & = 0\\\\\n",
    "P(ME(|ME488) & = 1\\\\\n",
    "P(BA|ME488) & = 0\\\\\n",
    "P(ME \\cup{} CE) & = 0\\\\\n",
    "\\end{align}\n",
    "\n",
    "**Test a machine for a broken part.**\n",
    "* 1 in 10,000 are broken\n",
    "* Your test is 99% accurate (False positive is 1%)\n",
    "* False Negative Rate = 0%\n",
    "\n",
    "##### BAGGED FOR NOW\n",
    "\n",
    "Your test says broken. What is the chance or probability his machine really is broken?\n",
    "* TB - Test says it's broken\n",
    "* TN - test says it's not broken\n",
    "* B - Broken\n",
    "* NB - Not broken\n",
    "\n",
    "| Mathematical Description (---with buffer space---) | Description |\n",
    "|---|---|\n",
    "| $P(B) = 0.0001$ | Probability it's broken |\n",
    "| $P(NB) = 0.9999$ | Probability it's not broken\n",
    "| $P(B|TB) = $? | Probability it's broken given the test says it's broken |\n",
    "| $P(TB|B) = 0.99$ | Probability the test says it's broken given it's broken |\n",
    "| $P(TN|B) = 0$ | Probability it's |\n",
    "| $P(TN|NB) = 1$ |  |\n",
    "| $P(TB|NB) = 0.01$ |  |\n",
    "\n",
    "\\begin{align}\n",
    "P(B|TB) &= \\frac{P(TB|B) \\cdot{} P(B)}{P(TB)}\\\\\n",
    "P(TB) &= P(TB|B)P(B) + P(TB|NB)P(NB)\\\\\n",
    "P(B|TB) &= \\frac{0.99 \\cdot{} 0.0001}{(0.99)(0.0001) + (0.01)(0.999)}\\\\\n",
    "\\end{align}"
   ]
  },
  {
   "cell_type": "markdown",
   "metadata": {},
   "source": [
    "## Bayesian Conditionals"
   ]
  },
  {
   "cell_type": "markdown",
   "metadata": {},
   "source": [
    "## Error Types\n",
    "\n",
    "### Type I Error\n",
    "\n",
    "### Type II Error"
   ]
  },
  {
   "cell_type": "markdown",
   "metadata": {},
   "source": [
    "## Calculators"
   ]
  },
  {
   "cell_type": "markdown",
   "metadata": {},
   "source": [
    "### this Calculator"
   ]
  },
  {
   "cell_type": "code",
   "execution_count": 1,
   "metadata": {},
   "outputs": [
    {
     "ename": "NameError",
     "evalue": "name 'jnobsgonos' is not defined",
     "output_type": "error",
     "traceback": [
      "\u001b[1;31m---------------------------------------------------------------------------\u001b[0m",
      "\u001b[1;31mNameError\u001b[0m                                 Traceback (most recent call last)",
      "\u001b[1;32m<ipython-input-1-e58672fa5ee1>\u001b[0m in \u001b[0;36m<module>\u001b[1;34m\u001b[0m\n\u001b[1;32m----> 1\u001b[1;33m \u001b[0mjnobsgonos\u001b[0m\u001b[1;33m\u001b[0m\u001b[0m\n\u001b[0m",
      "\u001b[1;31mNameError\u001b[0m: name 'jnobsgonos' is not defined"
     ]
    }
   ],
   "source": [
    "jnobsgonos"
   ]
  },
  {
   "cell_type": "markdown",
   "metadata": {},
   "source": [
    "### That Calculator"
   ]
  },
  {
   "cell_type": "code",
   "execution_count": null,
   "metadata": {},
   "outputs": [],
   "source": []
  }
 ],
 "metadata": {
  "kernelspec": {
   "display_name": "Python 3",
   "language": "python",
   "name": "python3"
  },
  "language_info": {
   "codemirror_mode": {
    "name": "ipython",
    "version": 3
   },
   "file_extension": ".py",
   "mimetype": "text/x-python",
   "name": "python",
   "nbconvert_exporter": "python",
   "pygments_lexer": "ipython3",
   "version": "3.6.6"
  },
  "toc": {
   "base_numbering": 1,
   "nav_menu": {
    "height": "147.995px",
    "width": "191.866px"
   },
   "number_sections": false,
   "sideBar": true,
   "skip_h1_title": true,
   "title_cell": "Table of Contents",
   "title_sidebar": "Contents",
   "toc_cell": true,
   "toc_position": {
    "height": "calc(100% - 180px)",
    "left": "10px",
    "top": "150px",
    "width": "174.887px"
   },
   "toc_section_display": true,
   "toc_window_display": true
  }
 },
 "nbformat": 4,
 "nbformat_minor": 2
}
